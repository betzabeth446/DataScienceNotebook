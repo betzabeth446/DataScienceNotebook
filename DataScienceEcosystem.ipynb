{
  "nbformat": 4,
  "nbformat_minor": 0,
  "metadata": {
    "colab": {
      "provenance": [],
      "authorship_tag": "ABX9TyOBIAIfyC/Go+XKJvZr0A9Q",
      "include_colab_link": true
    },
    "kernelspec": {
      "name": "python3",
      "display_name": "Python 3"
    },
    "language_info": {
      "name": "python"
    }
  },
  "cells": [
    {
      "cell_type": "markdown",
      "metadata": {
        "id": "view-in-github",
        "colab_type": "text"
      },
      "source": [
        "<a href=\"https://colab.research.google.com/github/betzabeth446/DataScienceNotebook/blob/main/DataScienceEcosystem.ipynb\" target=\"_parent\"><img src=\"https://colab.research.google.com/assets/colab-badge.svg\" alt=\"Open In Colab\"/></a>"
      ]
    },
    {
      "cell_type": "markdown",
      "source": [
        "# Data Science Tools and Ecosystem"
      ],
      "metadata": {
        "id": "JJWCa2J__TfK"
      }
    },
    {
      "cell_type": "markdown",
      "source": [
        "En este cuaderno, se resumen las herramientas y ecosistemas de ciencia de datos."
      ],
      "metadata": {
        "id": "eE5xeIObA5cG"
      }
    },
    {
      "cell_type": "markdown",
      "source": [
        "Algunos de los lenguajes populares que usan los Científicos de Datos son:\n",
        "\n",
        "1. Python\n",
        "2. R\n",
        "3. SQL\n",
        "4. Julia\n"
      ],
      "metadata": {
        "id": "Iu8bCUegCSLD"
      }
    },
    {
      "cell_type": "markdown",
      "source": [
        "Algunas de las bibliotecas más utilizadas por los Científicos de Datos incluyen:\n",
        "\n",
        "1. Pandas\n",
        "2. NumPy\n",
        "3. Scikit-Learn\n",
        "4. TensorFlow\n"
      ],
      "metadata": {
        "id": "1cOST1RDD9Em"
      }
    },
    {
      "cell_type": "markdown",
      "source": [
        "| Data Science Tools |\n",
        "|--------------------|\n",
        "| Jupyter Notebook  |\n",
        "| RStudio          |\n",
        "| Apache Zeppelin  |\n"
      ],
      "metadata": {
        "id": "gb400FqVEZUO"
      }
    },
    {
      "cell_type": "markdown",
      "source": [
        "### A continuación, algunos ejemplos de evaluación de expresiones aritméticas en Python.\n"
      ],
      "metadata": {
        "id": "Jpf5OgbFFCL4"
      }
    },
    {
      "cell_type": "code",
      "source": [
        "# Esta es una expresión aritmética simple que multiplica y luego suma enteros\n",
        "(3 * 4) + 5\n"
      ],
      "metadata": {
        "colab": {
          "base_uri": "https://localhost:8080/"
        },
        "id": "OxilkPX4Fisa",
        "outputId": "8dd01b3d-c0d8-4075-cee4-a1c2ed717414"
      },
      "execution_count": null,
      "outputs": [
        {
          "output_type": "execute_result",
          "data": {
            "text/plain": [
              "17"
            ]
          },
          "metadata": {},
          "execution_count": 1
        }
      ]
    },
    {
      "cell_type": "code",
      "source": [
        "# Esto convertirá 200 minutos a horas dividiendo por 60\n",
        "200 / 60\n"
      ],
      "metadata": {
        "colab": {
          "base_uri": "https://localhost:8080/"
        },
        "id": "1ZA_GVNeGvP-",
        "outputId": "6acf9b51-9c69-44fa-de1c-c7979f049417"
      },
      "execution_count": null,
      "outputs": [
        {
          "output_type": "execute_result",
          "data": {
            "text/plain": [
              "3.3333333333333335"
            ]
          },
          "metadata": {},
          "execution_count": 2
        }
      ]
    },
    {
      "cell_type": "markdown",
      "source": [
        "**Objetivos:**\n",
        "- Listar lenguajes populares para Data Science\n",
        "- Describir herramientas de desarrollo en Data Science\n",
        "- Mostrar bibliotecas de Data Science más utilizadas\n",
        "- Demostrar ejemplos de expresiones aritméticas en Python\n"
      ],
      "metadata": {
        "id": "yVVwvrbSHblo"
      }
    },
    {
      "cell_type": "markdown",
      "source": [
        "## Autor  \n",
        "Betzabeth Dolores Torres Gutierrez\n"
      ],
      "metadata": {
        "id": "9T9mxU8fH0Jq"
      }
    }
  ]
}